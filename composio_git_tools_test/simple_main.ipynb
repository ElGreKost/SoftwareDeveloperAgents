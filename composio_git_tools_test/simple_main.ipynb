{
 "cells": [
  {
   "metadata": {
    "ExecuteTime": {
     "end_time": "2025-01-26T23:02:01.061188Z",
     "start_time": "2025-01-26T23:01:59.366918Z"
    }
   },
   "cell_type": "code",
   "source": [
    "# [swe_agent/agent/inputs.py]\n",
    "import re\n",
    "import typing as t\n",
    "from pathlib import Path\n",
    "from composio import Action, ComposioToolSet\n",
    "\n",
    "\n",
    "InputType = t.TypeVar(\"InputType\")\n",
    "\n",
    "\n",
    "def read_user_input(\n",
    "    prompt: str,\n",
    "    metavar: str,\n",
    "    validator: t.Callable[[str], InputType],\n",
    ") -> InputType:\n",
    "    \"\"\"Read user input.\"\"\"\n",
    "    while True:\n",
    "        value = input(f\"{prompt} > \")\n",
    "        try:\n",
    "            return validator(value)\n",
    "        except Exception as e:\n",
    "            print(f\"Invalid value for `{metavar}` error parsing `{value}`; {e}\")\n",
    "\n",
    "\n",
    "def _github_repository_name_validator(name: str) -> t.Tuple[str, str]:\n",
    "    \"\"\"Validate github repository name.\"\"\"\n",
    "    if \" \" in name:\n",
    "        raise ValueError()\n",
    "    owner, name = name.split(\"/\")\n",
    "    return owner, name\n",
    "\n",
    "\n",
    "def _create_github_issue_validator(owner: str, name: str) -> t.Callable[[str], str]:\n",
    "    \"\"\"Create a github issue validator.\"\"\"\n",
    "\n",
    "    def _github_issue_validator(value: str) -> str:\n",
    "        \"\"\"Validate github issue.\"\"\"\n",
    "        # Check if it's a file path\n",
    "        if Path(value).resolve().exists():\n",
    "            return Path(value).read_text(encoding=\"utf-8\")\n",
    "\n",
    "        if re.match(r\"^\\d+$\", value):\n",
    "            response_data = ComposioToolSet().execute_action(\n",
    "                action=Action.GITHUB_GET_AN_ISSUE,\n",
    "                params={\n",
    "                    \"owner\": owner,\n",
    "                    \"repo\": name,\n",
    "                    \"issue_number\": int(value),\n",
    "                },\n",
    "            ).get(\"data\")\n",
    "            if response_data:\n",
    "                return response_data[\"body\"]\n",
    "            else:\n",
    "                raise ValueError(\"No issue found with the given issue number\")\n",
    "\n",
    "        # If neither a file nor issue ID, treat as direct description text\n",
    "        return value\n",
    "\n",
    "    return _github_issue_validator\n",
    "\n",
    "\n",
    "def from_github() -> t.Tuple[str, str]:\n",
    "    \"\"\"Take input from github.\"\"\"\n",
    "    owner, name = read_user_input(\n",
    "        prompt=\"Enter github repository name\",\n",
    "        metavar=\"github repository name\",\n",
    "        validator=_github_repository_name_validator,\n",
    "    )\n",
    "    return (\n",
    "        f\"{owner}/{name}\",\n",
    "        read_user_input(\n",
    "            prompt=\"Enter github issue ID or description or path to the file containing description\",\n",
    "            metavar=\"github issue\",\n",
    "            validator=_create_github_issue_validator(\n",
    "                owner=owner,\n",
    "                name=name,\n",
    "            ),\n",
    "        ),\n",
    "    )"
   ],
   "id": "6d32a5c2b1324628",
   "outputs": [],
   "execution_count": 1
  },
  {
   "metadata": {
    "ExecuteTime": {
     "end_time": "2025-01-26T22:59:12.263415Z",
     "start_time": "2025-01-26T22:59:05.188300Z"
    }
   },
   "cell_type": "code",
   "source": [
    "# read_user_input(\"Enter github repository name\", \"github repository name\", _github_repository_name_validator)\n",
    "# owner, name = _create_github_issue_validator(\"ElGreKost\", \"SoftwareDeveloperAgents\")  # ElGreKost/SoftwareDeveloperAgents\n",
    "# out = read_user_input(\"Enter github issue ID or description or path to the file containing description\", \"github issue\", _create_github_issue_validator(\"ElGreKost\", \"SoftwareDeveloperAgents\"))  # 1"
   ],
   "id": "d7350faf264317f5",
   "outputs": [],
   "execution_count": 30
  },
  {
   "cell_type": "code",
   "id": "initial_id",
   "metadata": {
    "collapsed": true,
    "ExecuteTime": {
     "end_time": "2025-01-26T23:02:10.394632Z",
     "start_time": "2025-01-26T23:02:03.756574Z"
    }
   },
   "source": [
    "import uuid\n",
    "from agent import get_crew\n",
    "from composio import Action\n",
    "from tools import create_pr\n"
   ],
   "outputs": [],
   "execution_count": 2
  },
  {
   "metadata": {
    "ExecuteTime": {
     "end_time": "2025-01-26T23:03:02.572108Z",
     "start_time": "2025-01-26T23:02:33.090036Z"
    }
   },
   "cell_type": "code",
   "source": [
    "repo, issue = from_github()\n",
    "owner, repo_name = repo.split(\"/\")"
   ],
   "id": "d5be8f48fd2da9b5",
   "outputs": [],
   "execution_count": 3
  },
  {
   "metadata": {},
   "cell_type": "code",
   "outputs": [],
   "execution_count": null,
   "source": [
    "\n",
    "crew, composio_toolset = get_crew(repo_path=f\"/home/user/{repo_name}\", workspace_id=None)\n",
    "crew.kickoff(\n",
    "    inputs={\n",
    "        \"repo\": repo,\n",
    "        \"issue\": issue,\n",
    "    }\n",
    ")\n",
    "composio_toolset.execute_action(\n",
    "    action=Action.FILETOOL_CHANGE_WORKING_DIRECTORY,\n",
    "    params={\"path\": f\"/home/user/{repo_name}\"},\n",
    ")\n",
    "response = composio_toolset.execute_action(\n",
    "    action=Action.FILETOOL_GIT_PATCH,\n",
    "    params={},\n",
    ")"
   ],
   "id": "25a8473dcb06d7d2"
  },
  {
   "metadata": {
    "ExecuteTime": {
     "end_time": "2025-01-26T23:12:47.886061Z",
     "start_time": "2025-01-26T23:12:47.876746Z"
    }
   },
   "cell_type": "code",
   "source": [
    "from pathlib import Path\n",
    "Path.home()"
   ],
   "id": "3efeb3af908b4249",
   "outputs": [
    {
     "data": {
      "text/plain": [
       "WindowsPath('C:/Users/kosti')"
      ]
     },
     "execution_count": 5,
     "metadata": {},
     "output_type": "execute_result"
    }
   ],
   "execution_count": 5
  }
 ],
 "metadata": {
  "kernelspec": {
   "display_name": "Python 3",
   "language": "python",
   "name": "python3"
  },
  "language_info": {
   "codemirror_mode": {
    "name": "ipython",
    "version": 2
   },
   "file_extension": ".py",
   "mimetype": "text/x-python",
   "name": "python",
   "nbconvert_exporter": "python",
   "pygments_lexer": "ipython2",
   "version": "2.7.6"
  }
 },
 "nbformat": 4,
 "nbformat_minor": 5
}
